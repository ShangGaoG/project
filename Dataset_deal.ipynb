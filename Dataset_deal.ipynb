{
 "cells": [
  {
   "cell_type": "code",
   "execution_count": 1,
   "metadata": {},
   "outputs": [],
   "source": [
    "import os\n",
    "import sys"
   ]
  },
  {
   "cell_type": "code",
   "execution_count": 12,
   "metadata": {},
   "outputs": [],
   "source": [
    "# move xml\n",
    "\n",
    "root = '/ssd-sata1/gs/DepthFlying'\n",
    "seqs = ['outbasketball01',\n",
    "'outbasketball02',\n",
    "'outtennis02',\n",
    "'outtennis01',\n",
    "'bikeman',\n",
    "'bike04',\n",
    "'bike03',\n",
    "'bike02',\n",
    "'bike01',\n",
    "'glove_2',\n",
    "'blueman',\n",
    "'glove_1',\n",
    "'bottle_2',\n",
    "'bottle_1',\n",
    "'book_3',\n",
    "'book_2',\n",
    "'book_1',\n",
    "'bike_2',\n",
    "'bike_1',\n",
    "'back_2',\n",
    "'back_1']\n",
    "for seq in seqs:\n",
    "    seq_path = os.path.join(root, seq)\n",
    "    color_path = os.path.join(seq_path, 'color')\n",
    "    items = os.listdir(color_path)\n",
    "    items.sort()\n",
    "    cmd = 'mv {} {}'.format(os.path.join(color_path, items[0].split('.')[0]+'.xml'), seq_path)\n",
    "    os.system(cmd)\n"
   ]
  }
 ],
 "metadata": {
  "kernelspec": {
   "display_name": "Python 3.7.13 ('hcat')",
   "language": "python",
   "name": "python3"
  },
  "language_info": {
   "codemirror_mode": {
    "name": "ipython",
    "version": 3
   },
   "file_extension": ".py",
   "mimetype": "text/x-python",
   "name": "python",
   "nbconvert_exporter": "python",
   "pygments_lexer": "ipython3",
   "version": "3.7.13"
  },
  "orig_nbformat": 4,
  "vscode": {
   "interpreter": {
    "hash": "edb07735ce08566b609834036d6cb137d86e908e175fe49c644c43c8e2ef1e6c"
   }
  }
 },
 "nbformat": 4,
 "nbformat_minor": 2
}
