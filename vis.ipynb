{
 "cells": [
  {
   "cell_type": "code",
   "execution_count": 1,
   "metadata": {},
   "outputs": [
    {
     "name": "stderr",
     "output_type": "stream",
     "text": [
      "/home/gaoshang/anaconda3/envs/hcat/lib/python3.7/site-packages/tqdm/auto.py:22: TqdmWarning: IProgress not found. Please update jupyter and ipywidgets. See https://ipywidgets.readthedocs.io/en/stable/user_install.html\n",
      "  from .autonotebook import tqdm as notebook_tqdm\n"
     ]
    }
   ],
   "source": [
    "import numpy as np\n",
    "import cv2\n",
    "from PIL import Image\n",
    "import matplotlib\n",
    "matplotlib.use('Agg')\n",
    "import matplotlib.pyplot as plt\n",
    "import os\n",
    "import cv2\n",
    "import torch"
   ]
  },
  {
   "cell_type": "code",
   "execution_count": 9,
   "metadata": {},
   "outputs": [],
   "source": [
    "def visualize_grid_attention_v2(img_path, save_path, attention_mask, ratio=1, cmap=\"jet\", save_image=True,\n",
    "                             save_original_image=False, quality=200):\n",
    "    \"\"\"\n",
    "    img_path:   image file path to load\n",
    "    save_path:  image file path to save\n",
    "    attention_mask:  2-D attention map with np.array type, e.g, (h, w) or (w, h)\n",
    "    ratio:  scaling factor to scale the output h and w\n",
    "    cmap:  attention style, default: \"jet\"\n",
    "    quality:  saved image quality\n",
    "    \"\"\"\n",
    "    print(\"load image from: \", img_path)\n",
    "    img = Image.open(img_path, mode='r')\n",
    "    img_h, img_w = img.size[0], img.size[1]\n",
    "    plt.subplots(nrows=1, ncols=1, figsize=(0.02 * img_h, 0.02 * img_w))\n",
    "\n",
    "    # scale the image\n",
    "    img_h, img_w = int(img.size[0] * ratio), int(img.size[1] * ratio)\n",
    "    img = img.resize((img_h, img_w))\n",
    "    plt.imshow(img, alpha=1)\n",
    "    plt.axis('off')\n",
    "\n",
    "    # normalize the attention map\n",
    "    mask = cv2.resize(attention_mask, (img_h, img_w))\n",
    "    normed_mask = mask / mask.max()\n",
    "    normed_mask = (normed_mask * 255).astype('uint8')\n",
    "    plt.imshow(normed_mask, alpha=0.5, interpolation='nearest', cmap=cmap)\n",
    "\n",
    "    if save_image:\n",
    "        # build save path\n",
    "        if not os.path.exists(save_path):\n",
    "            os.mkdir(save_path)\n",
    "        img_name = img_path.split('/')[-1].split('.')[0] + \"_with_attention.jpg\"\n",
    "        img_with_attention_save_path = os.path.join(save_path, img_name)\n",
    "        \n",
    "        # pre-process and save image\n",
    "        print(\"save image to: \" + save_path + \" as \" + img_name)\n",
    "        plt.axis('off')\n",
    "        plt.subplots_adjust(top=1, bottom=0, right=1,  left=0, hspace=0, wspace=0)\n",
    "        plt.margins(0, 0)\n",
    "        plt.savefig(img_with_attention_save_path, dpi=quality)\n",
    "\n",
    "    if save_original_image:\n",
    "        # build save path\n",
    "        if not os.path.exists(save_path):\n",
    "            os.mkdir(save_path)\n",
    "\n",
    "        # save original image file\n",
    "        print(\"save original image at the same time\")\n",
    "        img_name = img_path.split('/')[-1].split('.')[0] + \"_original.jpg\"\n",
    "        original_image_save_path = os.path.join(save_path, img_name)\n",
    "        img.save(original_image_save_path, quality=quality)"
   ]
  },
  {
   "cell_type": "code",
   "execution_count": 10,
   "metadata": {},
   "outputs": [
    {
     "name": "stdout",
     "output_type": "stream",
     "text": [
      "load image from:  /ssd-nvme1/gs/HCAT/feature_vis/crop/rgb_x.jpg\n",
      "save image to: /ssd-nvme1/gs/HCAT/x-sa.jpg as rgb_x_with_attention.jpg\n"
     ]
    }
   ],
   "source": [
    "search_sa = torch.load('/ssd-nvme1/gs/src1_attention_w.pt').squeeze().cpu().detach().numpy()\n",
    "visualize_grid_attention_v2('/ssd-nvme1/gs/HCAT/feature_vis/crop/rgb_x.jpg', '/ssd-nvme1/gs/HCAT/x-sa.jpg',search_sa)\n",
    "\n"
   ]
  }
 ],
 "metadata": {
  "kernelspec": {
   "display_name": "Python 3.7.13 ('hcat')",
   "language": "python",
   "name": "python3"
  },
  "language_info": {
   "codemirror_mode": {
    "name": "ipython",
    "version": 3
   },
   "file_extension": ".py",
   "mimetype": "text/x-python",
   "name": "python",
   "nbconvert_exporter": "python",
   "pygments_lexer": "ipython3",
   "version": "3.7.13"
  },
  "orig_nbformat": 4,
  "vscode": {
   "interpreter": {
    "hash": "edb07735ce08566b609834036d6cb137d86e908e175fe49c644c43c8e2ef1e6c"
   }
  }
 },
 "nbformat": 4,
 "nbformat_minor": 2
}
